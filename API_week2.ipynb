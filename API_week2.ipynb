{
 "cells": [
  {
   "cell_type": "markdown",
   "metadata": {},
   "source": [
    "# API_week2作业"
   ]
  },
  {
   "cell_type": "markdown",
   "metadata": {},
   "source": [
    "* 根据照片中的人脸，检测出图片中人脸的情绪，例如愤怒值、微笑值"
   ]
  },
  {
   "cell_type": "markdown",
   "metadata": {},
   "source": [
    "* 使用到Azure 平台"
   ]
  },
  {
   "cell_type": "code",
   "execution_count": 55,
   "metadata": {},
   "outputs": [],
   "source": [
    "# 导入需要的模块\n",
    "import requests\n",
    "import json"
   ]
  },
  {
   "cell_type": "code",
   "execution_count": 56,
   "metadata": {},
   "outputs": [],
   "source": [
    "# 输入API网站注册的API_Key\n",
    "KEY = '6d2313c39a6c430b93de1c4a4afdbbfb'"
   ]
  },
  {
   "cell_type": "code",
   "execution_count": 57,
   "metadata": {},
   "outputs": [],
   "source": [
    "# 目标url [base url] \n",
    "# 人脸检测\n",
    "BASE_URL = ' https://westcentralus.api.cognitive.microsoft.com/face/v1.0/detect'"
   ]
  },
  {
   "cell_type": "code",
   "execution_count": 58,
   "metadata": {},
   "outputs": [],
   "source": [
    "# 沿用API的示范代碼，{subscription key}用KEY代入\n",
    "HEADERS = {\n",
    "    # Request headers\n",
    "    'Content-Type': 'application/json',\n",
    "    'Ocp-Apim-Subscription-Key': '{}'.format(KEY), #''  \n",
    "}\n",
    "img_url = 'https://timgsa.baidu.com/timg?image&quality=80&size=b9999_10000&sec=1585747618306&di=48cf1174ae16f120e1b957a1eae8f5ed&imgtype=0&src=http%3A%2F%2Fu3.huatu.com%2Fuploads%2Fallimg%2F200309%2F660754-2003091I431227.png'"
   ]
  },
  {
   "cell_type": "code",
   "execution_count": 59,
   "metadata": {},
   "outputs": [],
   "source": [
    "data = {\n",
    "    'url': '{}'.format(img_url),\n",
    "}\n",
    "payload = {\n",
    "    'returnFaceId': 'true',\n",
    "    'returnFaceLandmarks': 'flase',\n",
    "    'returnFaceAttributes': '{}'.format('age,gender,glasses,smile,emotion'), #添加想要获取的信息\n",
    "}"
   ]
  },
  {
   "cell_type": "code",
   "execution_count": 60,
   "metadata": {},
   "outputs": [
    {
     "data": {
      "text/plain": [
       "b'[{\"faceId\":\"b895b662-1425-4d70-a850-cc468af4f8a7\",\"faceRectangle\":{\"top\":104,\"left\":522,\"width\":79,\"height\":79},\"faceAttributes\":{\"smile\":1.0,\"gender\":\"male\",\"age\":22.0,\"glasses\":\"NoGlasses\",\"emotion\":{\"anger\":0.0,\"contempt\":0.0,\"disgust\":0.0,\"fear\":0.0,\"happiness\":1.0,\"neutral\":0.0,\"sadness\":0.0,\"surprise\":0.0}}},{\"faceId\":\"15004685-d91a-44f2-8cbc-a91f57233f19\",\"faceRectangle\":{\"top\":98,\"left\":327,\"width\":72,\"height\":72},\"faceAttributes\":{\"smile\":1.0,\"gender\":\"male\",\"age\":19.0,\"glasses\":\"NoGlasses\",\"emotion\":{\"anger\":0.0,\"contempt\":0.0,\"disgust\":0.0,\"fear\":0.0,\"happiness\":1.0,\"neutral\":0.0,\"sadness\":0.0,\"surprise\":0.0}}},{\"faceId\":\"2d01d608-cec7-4e8c-a878-1b08c49aa402\",\"faceRectangle\":{\"top\":150,\"left\":633,\"width\":70,\"height\":70},\"faceAttributes\":{\"smile\":1.0,\"gender\":\"female\",\"age\":27.0,\"glasses\":\"NoGlasses\",\"emotion\":{\"anger\":0.0,\"contempt\":0.0,\"disgust\":0.0,\"fear\":0.0,\"happiness\":1.0,\"neutral\":0.0,\"sadness\":0.0,\"surprise\":0.0}}}]'"
      ]
     },
     "execution_count": 60,
     "metadata": {},
     "output_type": "execute_result"
    }
   ],
   "source": [
    "# 坑。参考http://docs.python-requests.org/zh_CN/latest/user/quickstart.html  【更加复杂的post请求】\n",
    "# 差別是 string 字串 vs. dict 字典\n",
    "# Azura 使用的是 data = json.dumps(payload) 或 json=payload，data = payload 会出错\n",
    "r = requests.post(BASE_URL, data=json.dumps(data), params=payload, headers=HEADERS)\n",
    "#检查状态码\n",
    "# 如果出现401，则是由于订阅密钥无效或API终结点错误，访问被拒绝。请确保为活动订阅提供有效密钥，并为资源使用正确的区域API终结点。\n",
    "# 要检查一下密钥和HEADERS的相关代码\n",
    "r.status_code\n",
    "r.content"
   ]
  },
  {
   "cell_type": "code",
   "execution_count": 61,
   "metadata": {},
   "outputs": [
    {
     "data": {
      "text/plain": [
       "[{'faceId': 'b895b662-1425-4d70-a850-cc468af4f8a7',\n",
       "  'faceRectangle': {'top': 104, 'left': 522, 'width': 79, 'height': 79},\n",
       "  'faceAttributes': {'smile': 1.0,\n",
       "   'gender': 'male',\n",
       "   'age': 22.0,\n",
       "   'glasses': 'NoGlasses',\n",
       "   'emotion': {'anger': 0.0,\n",
       "    'contempt': 0.0,\n",
       "    'disgust': 0.0,\n",
       "    'fear': 0.0,\n",
       "    'happiness': 1.0,\n",
       "    'neutral': 0.0,\n",
       "    'sadness': 0.0,\n",
       "    'surprise': 0.0}}},\n",
       " {'faceId': '15004685-d91a-44f2-8cbc-a91f57233f19',\n",
       "  'faceRectangle': {'top': 98, 'left': 327, 'width': 72, 'height': 72},\n",
       "  'faceAttributes': {'smile': 1.0,\n",
       "   'gender': 'male',\n",
       "   'age': 19.0,\n",
       "   'glasses': 'NoGlasses',\n",
       "   'emotion': {'anger': 0.0,\n",
       "    'contempt': 0.0,\n",
       "    'disgust': 0.0,\n",
       "    'fear': 0.0,\n",
       "    'happiness': 1.0,\n",
       "    'neutral': 0.0,\n",
       "    'sadness': 0.0,\n",
       "    'surprise': 0.0}}},\n",
       " {'faceId': '2d01d608-cec7-4e8c-a878-1b08c49aa402',\n",
       "  'faceRectangle': {'top': 150, 'left': 633, 'width': 70, 'height': 70},\n",
       "  'faceAttributes': {'smile': 1.0,\n",
       "   'gender': 'female',\n",
       "   'age': 27.0,\n",
       "   'glasses': 'NoGlasses',\n",
       "   'emotion': {'anger': 0.0,\n",
       "    'contempt': 0.0,\n",
       "    'disgust': 0.0,\n",
       "    'fear': 0.0,\n",
       "    'happiness': 1.0,\n",
       "    'neutral': 0.0,\n",
       "    'sadness': 0.0,\n",
       "    'surprise': 0.0}}}]"
      ]
     },
     "execution_count": 61,
     "metadata": {},
     "output_type": "execute_result"
    }
   ],
   "source": [
    "# requests 巧妙的方法   r = response\n",
    "results = r.json() \n",
    "results"
   ]
  },
  {
   "cell_type": "code",
   "execution_count": 66,
   "metadata": {},
   "outputs": [
    {
     "data": {
      "text/html": [
       "<div>\n",
       "<style scoped>\n",
       "    .dataframe tbody tr th:only-of-type {\n",
       "        vertical-align: middle;\n",
       "    }\n",
       "\n",
       "    .dataframe tbody tr th {\n",
       "        vertical-align: top;\n",
       "    }\n",
       "\n",
       "    .dataframe thead th {\n",
       "        text-align: right;\n",
       "    }\n",
       "</style>\n",
       "<table border=\"1\" class=\"dataframe\">\n",
       "  <thead>\n",
       "    <tr style=\"text-align: right;\">\n",
       "      <th></th>\n",
       "      <th>faceAttributes</th>\n",
       "      <th>faceId</th>\n",
       "      <th>faceRectangle</th>\n",
       "    </tr>\n",
       "  </thead>\n",
       "  <tbody>\n",
       "    <tr>\n",
       "      <th>0</th>\n",
       "      <td>{'smile': 1.0, 'gender': 'male', 'age': 22.0, ...</td>\n",
       "      <td>b895b662-1425-4d70-a850-cc468af4f8a7</td>\n",
       "      <td>{'top': 104, 'left': 522, 'width': 79, 'height...</td>\n",
       "    </tr>\n",
       "    <tr>\n",
       "      <th>1</th>\n",
       "      <td>{'smile': 1.0, 'gender': 'male', 'age': 19.0, ...</td>\n",
       "      <td>15004685-d91a-44f2-8cbc-a91f57233f19</td>\n",
       "      <td>{'top': 98, 'left': 327, 'width': 72, 'height'...</td>\n",
       "    </tr>\n",
       "    <tr>\n",
       "      <th>2</th>\n",
       "      <td>{'smile': 1.0, 'gender': 'female', 'age': 27.0...</td>\n",
       "      <td>2d01d608-cec7-4e8c-a878-1b08c49aa402</td>\n",
       "      <td>{'top': 150, 'left': 633, 'width': 70, 'height...</td>\n",
       "    </tr>\n",
       "  </tbody>\n",
       "</table>\n",
       "</div>"
      ],
      "text/plain": [
       "                                      faceAttributes  \\\n",
       "0  {'smile': 1.0, 'gender': 'male', 'age': 22.0, ...   \n",
       "1  {'smile': 1.0, 'gender': 'male', 'age': 19.0, ...   \n",
       "2  {'smile': 1.0, 'gender': 'female', 'age': 27.0...   \n",
       "\n",
       "                                 faceId  \\\n",
       "0  b895b662-1425-4d70-a850-cc468af4f8a7   \n",
       "1  15004685-d91a-44f2-8cbc-a91f57233f19   \n",
       "2  2d01d608-cec7-4e8c-a878-1b08c49aa402   \n",
       "\n",
       "                                       faceRectangle  \n",
       "0  {'top': 104, 'left': 522, 'width': 79, 'height...  \n",
       "1  {'top': 98, 'left': 327, 'width': 72, 'height'...  \n",
       "2  {'top': 150, 'left': 633, 'width': 70, 'height...  "
      ]
     },
     "execution_count": 66,
     "metadata": {},
     "output_type": "execute_result"
    }
   ],
   "source": [
    "import pandas as pd\n",
    "faces_data = results\n",
    "df = pd.DataFrame(faces_data)\n",
    "df"
   ]
  },
  {
   "cell_type": "code",
   "execution_count": 73,
   "metadata": {},
   "outputs": [
    {
     "data": {
      "text/plain": [
       "0    {'smile': 1.0, 'gender': 'male', 'age': 22.0, ...\n",
       "1    {'smile': 1.0, 'gender': 'male', 'age': 19.0, ...\n",
       "2    {'smile': 1.0, 'gender': 'female', 'age': 27.0...\n",
       "Name: faceAttributes, dtype: object"
      ]
     },
     "execution_count": 73,
     "metadata": {},
     "output_type": "execute_result"
    }
   ],
   "source": [
    "# 取变量 (pandas cheetsheet)\n",
    "df[\"faceAttributes\"]"
   ]
  },
  {
   "cell_type": "code",
   "execution_count": 78,
   "metadata": {},
   "outputs": [
    {
     "data": {
      "text/html": [
       "<div>\n",
       "<style scoped>\n",
       "    .dataframe tbody tr th:only-of-type {\n",
       "        vertical-align: middle;\n",
       "    }\n",
       "\n",
       "    .dataframe tbody tr th {\n",
       "        vertical-align: top;\n",
       "    }\n",
       "\n",
       "    .dataframe thead th {\n",
       "        text-align: right;\n",
       "    }\n",
       "</style>\n",
       "<table border=\"1\" class=\"dataframe\">\n",
       "  <thead>\n",
       "    <tr style=\"text-align: right;\">\n",
       "      <th></th>\n",
       "      <th>faceAttributes</th>\n",
       "    </tr>\n",
       "  </thead>\n",
       "  <tbody>\n",
       "    <tr>\n",
       "      <th>0</th>\n",
       "      <td>{'smile': 1.0, 'gender': 'male', 'age': 22.0, ...</td>\n",
       "    </tr>\n",
       "    <tr>\n",
       "      <th>1</th>\n",
       "      <td>{'smile': 1.0, 'gender': 'male', 'age': 19.0, ...</td>\n",
       "    </tr>\n",
       "    <tr>\n",
       "      <th>2</th>\n",
       "      <td>{'smile': 1.0, 'gender': 'female', 'age': 27.0...</td>\n",
       "    </tr>\n",
       "  </tbody>\n",
       "</table>\n",
       "</div>"
      ],
      "text/plain": [
       "                                      faceAttributes\n",
       "0  {'smile': 1.0, 'gender': 'male', 'age': 22.0, ...\n",
       "1  {'smile': 1.0, 'gender': 'male', 'age': 19.0, ...\n",
       "2  {'smile': 1.0, 'gender': 'female', 'age': 27.0..."
      ]
     },
     "execution_count": 78,
     "metadata": {},
     "output_type": "execute_result"
    }
   ],
   "source": [
    "pd.DataFrame(df[\"faceAttributes\"])"
   ]
  },
  {
   "cell_type": "code",
   "execution_count": 74,
   "metadata": {},
   "outputs": [
    {
     "data": {
      "text/plain": [
       "{0: {'smile': 1.0,\n",
       "  'gender': 'male',\n",
       "  'age': 22.0,\n",
       "  'glasses': 'NoGlasses',\n",
       "  'emotion': {'anger': 0.0,\n",
       "   'contempt': 0.0,\n",
       "   'disgust': 0.0,\n",
       "   'fear': 0.0,\n",
       "   'happiness': 1.0,\n",
       "   'neutral': 0.0,\n",
       "   'sadness': 0.0,\n",
       "   'surprise': 0.0}},\n",
       " 1: {'smile': 1.0,\n",
       "  'gender': 'male',\n",
       "  'age': 19.0,\n",
       "  'glasses': 'NoGlasses',\n",
       "  'emotion': {'anger': 0.0,\n",
       "   'contempt': 0.0,\n",
       "   'disgust': 0.0,\n",
       "   'fear': 0.0,\n",
       "   'happiness': 1.0,\n",
       "   'neutral': 0.0,\n",
       "   'sadness': 0.0,\n",
       "   'surprise': 0.0}},\n",
       " 2: {'smile': 1.0,\n",
       "  'gender': 'female',\n",
       "  'age': 27.0,\n",
       "  'glasses': 'NoGlasses',\n",
       "  'emotion': {'anger': 0.0,\n",
       "   'contempt': 0.0,\n",
       "   'disgust': 0.0,\n",
       "   'fear': 0.0,\n",
       "   'happiness': 1.0,\n",
       "   'neutral': 0.0,\n",
       "   'sadness': 0.0,\n",
       "   'surprise': 0.0}}}"
      ]
     },
     "execution_count": 74,
     "metadata": {},
     "output_type": "execute_result"
    }
   ],
   "source": [
    "# 把faceAttributes的内容变成字典\n",
    "df[\"faceAttributes\"].to_dict()"
   ]
  },
  {
   "cell_type": "code",
   "execution_count": 45,
   "metadata": {},
   "outputs": [
    {
     "data": {
      "text/html": [
       "<div>\n",
       "<style scoped>\n",
       "    .dataframe tbody tr th:only-of-type {\n",
       "        vertical-align: middle;\n",
       "    }\n",
       "\n",
       "    .dataframe tbody tr th {\n",
       "        vertical-align: top;\n",
       "    }\n",
       "\n",
       "    .dataframe thead th {\n",
       "        text-align: right;\n",
       "    }\n",
       "</style>\n",
       "<table border=\"1\" class=\"dataframe\">\n",
       "  <thead>\n",
       "    <tr style=\"text-align: right;\">\n",
       "      <th></th>\n",
       "      <th>0</th>\n",
       "      <th>1</th>\n",
       "      <th>2</th>\n",
       "    </tr>\n",
       "  </thead>\n",
       "  <tbody>\n",
       "    <tr>\n",
       "      <th>age</th>\n",
       "      <td>22</td>\n",
       "      <td>19</td>\n",
       "      <td>27</td>\n",
       "    </tr>\n",
       "    <tr>\n",
       "      <th>emotion</th>\n",
       "      <td>{'anger': 0.0, 'contempt': 0.0, 'disgust': 0.0...</td>\n",
       "      <td>{'anger': 0.0, 'contempt': 0.0, 'disgust': 0.0...</td>\n",
       "      <td>{'anger': 0.0, 'contempt': 0.0, 'disgust': 0.0...</td>\n",
       "    </tr>\n",
       "    <tr>\n",
       "      <th>gender</th>\n",
       "      <td>male</td>\n",
       "      <td>male</td>\n",
       "      <td>female</td>\n",
       "    </tr>\n",
       "    <tr>\n",
       "      <th>glasses</th>\n",
       "      <td>NoGlasses</td>\n",
       "      <td>NoGlasses</td>\n",
       "      <td>NoGlasses</td>\n",
       "    </tr>\n",
       "    <tr>\n",
       "      <th>smile</th>\n",
       "      <td>1</td>\n",
       "      <td>1</td>\n",
       "      <td>1</td>\n",
       "    </tr>\n",
       "  </tbody>\n",
       "</table>\n",
       "</div>"
      ],
      "text/plain": [
       "                                                         0  \\\n",
       "age                                                     22   \n",
       "emotion  {'anger': 0.0, 'contempt': 0.0, 'disgust': 0.0...   \n",
       "gender                                                male   \n",
       "glasses                                          NoGlasses   \n",
       "smile                                                    1   \n",
       "\n",
       "                                                         1  \\\n",
       "age                                                     19   \n",
       "emotion  {'anger': 0.0, 'contempt': 0.0, 'disgust': 0.0...   \n",
       "gender                                                male   \n",
       "glasses                                          NoGlasses   \n",
       "smile                                                    1   \n",
       "\n",
       "                                                         2  \n",
       "age                                                     27  \n",
       "emotion  {'anger': 0.0, 'contempt': 0.0, 'disgust': 0.0...  \n",
       "gender                                              female  \n",
       "glasses                                          NoGlasses  \n",
       "smile                                                    1  "
      ]
     },
     "execution_count": 45,
     "metadata": {},
     "output_type": "execute_result"
    }
   ],
   "source": [
    "pd.DataFrame(df[\"faceAttributes\"].to_dict())"
   ]
  },
  {
   "cell_type": "code",
   "execution_count": 86,
   "metadata": {},
   "outputs": [
    {
     "data": {
      "text/html": [
       "<div>\n",
       "<style scoped>\n",
       "    .dataframe tbody tr th:only-of-type {\n",
       "        vertical-align: middle;\n",
       "    }\n",
       "\n",
       "    .dataframe tbody tr th {\n",
       "        vertical-align: top;\n",
       "    }\n",
       "\n",
       "    .dataframe thead th {\n",
       "        text-align: right;\n",
       "    }\n",
       "</style>\n",
       "<table border=\"1\" class=\"dataframe\">\n",
       "  <thead>\n",
       "    <tr style=\"text-align: right;\">\n",
       "      <th></th>\n",
       "      <th>age</th>\n",
       "      <th>emotion</th>\n",
       "      <th>gender</th>\n",
       "      <th>glasses</th>\n",
       "      <th>smile</th>\n",
       "    </tr>\n",
       "  </thead>\n",
       "  <tbody>\n",
       "    <tr>\n",
       "      <th>0</th>\n",
       "      <td>22</td>\n",
       "      <td>{'anger': 0.0, 'contempt': 0.0, 'disgust': 0.0...</td>\n",
       "      <td>male</td>\n",
       "      <td>NoGlasses</td>\n",
       "      <td>1</td>\n",
       "    </tr>\n",
       "    <tr>\n",
       "      <th>1</th>\n",
       "      <td>19</td>\n",
       "      <td>{'anger': 0.0, 'contempt': 0.0, 'disgust': 0.0...</td>\n",
       "      <td>male</td>\n",
       "      <td>NoGlasses</td>\n",
       "      <td>1</td>\n",
       "    </tr>\n",
       "    <tr>\n",
       "      <th>2</th>\n",
       "      <td>27</td>\n",
       "      <td>{'anger': 0.0, 'contempt': 0.0, 'disgust': 0.0...</td>\n",
       "      <td>female</td>\n",
       "      <td>NoGlasses</td>\n",
       "      <td>1</td>\n",
       "    </tr>\n",
       "  </tbody>\n",
       "</table>\n",
       "</div>"
      ],
      "text/plain": [
       "  age                                            emotion  gender    glasses  \\\n",
       "0  22  {'anger': 0.0, 'contempt': 0.0, 'disgust': 0.0...    male  NoGlasses   \n",
       "1  19  {'anger': 0.0, 'contempt': 0.0, 'disgust': 0.0...    male  NoGlasses   \n",
       "2  27  {'anger': 0.0, 'contempt': 0.0, 'disgust': 0.0...  female  NoGlasses   \n",
       "\n",
       "  smile  \n",
       "0     1  \n",
       "1     1  \n",
       "2     1  "
      ]
     },
     "execution_count": 86,
     "metadata": {},
     "output_type": "execute_result"
    }
   ],
   "source": [
    "#对换位置 .T\n",
    "pd.DataFrame(df[\"faceAttributes\"].to_dict()).T"
   ]
  },
  {
   "cell_type": "code",
   "execution_count": 96,
   "metadata": {},
   "outputs": [
    {
     "data": {
      "text/plain": [
       "dict"
      ]
     },
     "execution_count": 96,
     "metadata": {},
     "output_type": "execute_result"
    }
   ],
   "source": [
    "#检验代码类型\n",
    "type(df[\"faceAttributes\"].loc[0])"
   ]
  },
  {
   "cell_type": "code",
   "execution_count": 100,
   "metadata": {},
   "outputs": [
    {
     "data": {
      "text/plain": [
       "RangeIndex(start=0, stop=3, step=1)"
      ]
     },
     "execution_count": 100,
     "metadata": {},
     "output_type": "execute_result"
    }
   ],
   "source": [
    "# 返回索引对象\n",
    "df[\"faceAttributes\"].index"
   ]
  },
  {
   "cell_type": "code",
   "execution_count": 87,
   "metadata": {},
   "outputs": [
    {
     "data": {
      "text/plain": [
       "[{'anger': 0.0,\n",
       "  'contempt': 0.0,\n",
       "  'disgust': 0.0,\n",
       "  'fear': 0.0,\n",
       "  'happiness': 1.0,\n",
       "  'neutral': 0.0,\n",
       "  'sadness': 0.0,\n",
       "  'surprise': 0.0},\n",
       " {'anger': 0.0,\n",
       "  'contempt': 0.0,\n",
       "  'disgust': 0.0,\n",
       "  'fear': 0.0,\n",
       "  'happiness': 1.0,\n",
       "  'neutral': 0.0,\n",
       "  'sadness': 0.0,\n",
       "  'surprise': 0.0},\n",
       " {'anger': 0.0,\n",
       "  'contempt': 0.0,\n",
       "  'disgust': 0.0,\n",
       "  'fear': 0.0,\n",
       "  'happiness': 1.0,\n",
       "  'neutral': 0.0,\n",
       "  'sadness': 0.0,\n",
       "  'surprise': 0.0}]"
      ]
     },
     "execution_count": 87,
     "metadata": {},
     "output_type": "execute_result"
    }
   ],
   "source": [
    "# 把全部的情绪都抽出来\n",
    "[df[\"faceAttributes\"].loc[i][\"emotion\"] if type(df[\"faceAttributes\"].loc[i])  is dict else missing_value for i in df[\"faceAttributes\"].index ]"
   ]
  },
  {
   "cell_type": "code",
   "execution_count": 94,
   "metadata": {},
   "outputs": [
    {
     "data": {
      "text/html": [
       "<div>\n",
       "<style scoped>\n",
       "    .dataframe tbody tr th:only-of-type {\n",
       "        vertical-align: middle;\n",
       "    }\n",
       "\n",
       "    .dataframe tbody tr th {\n",
       "        vertical-align: top;\n",
       "    }\n",
       "\n",
       "    .dataframe thead th {\n",
       "        text-align: right;\n",
       "    }\n",
       "</style>\n",
       "<table border=\"1\" class=\"dataframe\">\n",
       "  <thead>\n",
       "    <tr style=\"text-align: right;\">\n",
       "      <th></th>\n",
       "      <th>emotion_anger</th>\n",
       "      <th>emotion_contempt</th>\n",
       "      <th>emotion_disgust</th>\n",
       "      <th>emotion_fear</th>\n",
       "      <th>emotion_happiness</th>\n",
       "      <th>emotion_neutral</th>\n",
       "      <th>emotion_sadness</th>\n",
       "      <th>emotion_surprise</th>\n",
       "    </tr>\n",
       "  </thead>\n",
       "  <tbody>\n",
       "    <tr>\n",
       "      <th>0</th>\n",
       "      <td>0.0</td>\n",
       "      <td>0.0</td>\n",
       "      <td>0.0</td>\n",
       "      <td>0.0</td>\n",
       "      <td>1.0</td>\n",
       "      <td>0.0</td>\n",
       "      <td>0.0</td>\n",
       "      <td>0.0</td>\n",
       "    </tr>\n",
       "    <tr>\n",
       "      <th>1</th>\n",
       "      <td>0.0</td>\n",
       "      <td>0.0</td>\n",
       "      <td>0.0</td>\n",
       "      <td>0.0</td>\n",
       "      <td>1.0</td>\n",
       "      <td>0.0</td>\n",
       "      <td>0.0</td>\n",
       "      <td>0.0</td>\n",
       "    </tr>\n",
       "    <tr>\n",
       "      <th>2</th>\n",
       "      <td>0.0</td>\n",
       "      <td>0.0</td>\n",
       "      <td>0.0</td>\n",
       "      <td>0.0</td>\n",
       "      <td>1.0</td>\n",
       "      <td>0.0</td>\n",
       "      <td>0.0</td>\n",
       "      <td>0.0</td>\n",
       "    </tr>\n",
       "  </tbody>\n",
       "</table>\n",
       "</div>"
      ],
      "text/plain": [
       "   emotion_anger  emotion_contempt  emotion_disgust  emotion_fear  \\\n",
       "0            0.0               0.0              0.0           0.0   \n",
       "1            0.0               0.0              0.0           0.0   \n",
       "2            0.0               0.0              0.0           0.0   \n",
       "\n",
       "   emotion_happiness  emotion_neutral  emotion_sadness  emotion_surprise  \n",
       "0                1.0              0.0              0.0               0.0  \n",
       "1                1.0              0.0              0.0               0.0  \n",
       "2                1.0              0.0              0.0               0.0  "
      ]
     },
     "execution_count": 94,
     "metadata": {},
     "output_type": "execute_result"
    }
   ],
   "source": [
    "# 不懂！！！ 死记硬背 能把全部的情绪都抽出来\n",
    "df_attr_emotion = pd.DataFrame([df[\"faceAttributes\"].loc[i][\"emotion\"] if type(df[\"faceAttributes\"].loc[i])  is dict else missing_value for i in df[\"faceAttributes\"].index ])\n",
    "# 欄位名稱加上 face_rectangle \n",
    "# df.column修改列名\n",
    "df_attr_emotion.columns = [ \"emotion_\"+x for x in df_attr_emotion.columns]\n",
    "df_attr_emotion"
   ]
  },
  {
   "cell_type": "code",
   "execution_count": 98,
   "metadata": {},
   "outputs": [
    {
     "data": {
      "text/html": [
       "<div>\n",
       "<style scoped>\n",
       "    .dataframe tbody tr th:only-of-type {\n",
       "        vertical-align: middle;\n",
       "    }\n",
       "\n",
       "    .dataframe tbody tr th {\n",
       "        vertical-align: top;\n",
       "    }\n",
       "\n",
       "    .dataframe thead th {\n",
       "        text-align: right;\n",
       "    }\n",
       "</style>\n",
       "<table border=\"1\" class=\"dataframe\">\n",
       "  <thead>\n",
       "    <tr style=\"text-align: right;\">\n",
       "      <th></th>\n",
       "      <th>age</th>\n",
       "      <th>gender</th>\n",
       "      <th>smile</th>\n",
       "      <th>glasses</th>\n",
       "    </tr>\n",
       "  </thead>\n",
       "  <tbody>\n",
       "    <tr>\n",
       "      <th>0</th>\n",
       "      <td>22</td>\n",
       "      <td>male</td>\n",
       "      <td>1</td>\n",
       "      <td>NoGlasses</td>\n",
       "    </tr>\n",
       "    <tr>\n",
       "      <th>1</th>\n",
       "      <td>19</td>\n",
       "      <td>male</td>\n",
       "      <td>1</td>\n",
       "      <td>NoGlasses</td>\n",
       "    </tr>\n",
       "    <tr>\n",
       "      <th>2</th>\n",
       "      <td>27</td>\n",
       "      <td>female</td>\n",
       "      <td>1</td>\n",
       "      <td>NoGlasses</td>\n",
       "    </tr>\n",
       "  </tbody>\n",
       "</table>\n",
       "</div>"
      ],
      "text/plain": [
       "  age  gender smile    glasses\n",
       "0  22    male     1  NoGlasses\n",
       "1  19    male     1  NoGlasses\n",
       "2  27  female     1  NoGlasses"
      ]
     },
     "execution_count": 98,
     "metadata": {},
     "output_type": "execute_result"
    }
   ],
   "source": [
    "all = pd.DataFrame(df[\"faceAttributes\"].to_dict()).T\n",
    "#切割数据框，把年龄、性别、有无带眼镜从原始数据框切割出来，避免到时候整合数据多了emotion。\n",
    "all[['age','gender','smile','glasses']]"
   ]
  },
  {
   "cell_type": "code",
   "execution_count": 99,
   "metadata": {},
   "outputs": [
    {
     "data": {
      "text/html": [
       "<div>\n",
       "<style scoped>\n",
       "    .dataframe tbody tr th:only-of-type {\n",
       "        vertical-align: middle;\n",
       "    }\n",
       "\n",
       "    .dataframe tbody tr th {\n",
       "        vertical-align: top;\n",
       "    }\n",
       "\n",
       "    .dataframe thead th {\n",
       "        text-align: right;\n",
       "    }\n",
       "</style>\n",
       "<table border=\"1\" class=\"dataframe\">\n",
       "  <thead>\n",
       "    <tr style=\"text-align: right;\">\n",
       "      <th></th>\n",
       "      <th>age</th>\n",
       "      <th>gender</th>\n",
       "      <th>smile</th>\n",
       "      <th>glasses</th>\n",
       "      <th>emotion_anger</th>\n",
       "      <th>emotion_contempt</th>\n",
       "      <th>emotion_disgust</th>\n",
       "      <th>emotion_fear</th>\n",
       "      <th>emotion_happiness</th>\n",
       "      <th>emotion_neutral</th>\n",
       "      <th>emotion_sadness</th>\n",
       "      <th>emotion_surprise</th>\n",
       "    </tr>\n",
       "  </thead>\n",
       "  <tbody>\n",
       "    <tr>\n",
       "      <th>0</th>\n",
       "      <td>22</td>\n",
       "      <td>male</td>\n",
       "      <td>1</td>\n",
       "      <td>NoGlasses</td>\n",
       "      <td>0.0</td>\n",
       "      <td>0.0</td>\n",
       "      <td>0.0</td>\n",
       "      <td>0.0</td>\n",
       "      <td>1.0</td>\n",
       "      <td>0.0</td>\n",
       "      <td>0.0</td>\n",
       "      <td>0.0</td>\n",
       "    </tr>\n",
       "    <tr>\n",
       "      <th>1</th>\n",
       "      <td>19</td>\n",
       "      <td>male</td>\n",
       "      <td>1</td>\n",
       "      <td>NoGlasses</td>\n",
       "      <td>0.0</td>\n",
       "      <td>0.0</td>\n",
       "      <td>0.0</td>\n",
       "      <td>0.0</td>\n",
       "      <td>1.0</td>\n",
       "      <td>0.0</td>\n",
       "      <td>0.0</td>\n",
       "      <td>0.0</td>\n",
       "    </tr>\n",
       "    <tr>\n",
       "      <th>2</th>\n",
       "      <td>27</td>\n",
       "      <td>female</td>\n",
       "      <td>1</td>\n",
       "      <td>NoGlasses</td>\n",
       "      <td>0.0</td>\n",
       "      <td>0.0</td>\n",
       "      <td>0.0</td>\n",
       "      <td>0.0</td>\n",
       "      <td>1.0</td>\n",
       "      <td>0.0</td>\n",
       "      <td>0.0</td>\n",
       "      <td>0.0</td>\n",
       "    </tr>\n",
       "  </tbody>\n",
       "</table>\n",
       "</div>"
      ],
      "text/plain": [
       "  age  gender smile    glasses  emotion_anger  emotion_contempt  \\\n",
       "0  22    male     1  NoGlasses            0.0               0.0   \n",
       "1  19    male     1  NoGlasses            0.0               0.0   \n",
       "2  27  female     1  NoGlasses            0.0               0.0   \n",
       "\n",
       "   emotion_disgust  emotion_fear  emotion_happiness  emotion_neutral  \\\n",
       "0              0.0           0.0                1.0              0.0   \n",
       "1              0.0           0.0                1.0              0.0   \n",
       "2              0.0           0.0                1.0              0.0   \n",
       "\n",
       "   emotion_sadness  emotion_surprise  \n",
       "0              0.0               0.0  \n",
       "1              0.0               0.0  \n",
       "2              0.0               0.0  "
      ]
     },
     "execution_count": 99,
     "metadata": {},
     "output_type": "execute_result"
    }
   ],
   "source": [
    "# 使用.join合併\n",
    "# 输出年龄、性别、有无带眼镜、情绪\n",
    "all[['age','gender','smile','glasses']].join(df_attr_emotion)"
   ]
  }
 ],
 "metadata": {
  "kernelspec": {
   "display_name": "Python 3",
   "language": "python",
   "name": "python3"
  },
  "language_info": {
   "codemirror_mode": {
    "name": "ipython",
    "version": 3
   },
   "file_extension": ".py",
   "mimetype": "text/x-python",
   "name": "python",
   "nbconvert_exporter": "python",
   "pygments_lexer": "ipython3",
   "version": "3.7.3"
  },
  "toc": {
   "base_numbering": 1,
   "nav_menu": {},
   "number_sections": true,
   "sideBar": true,
   "skip_h1_title": false,
   "title_cell": "Table of Contents",
   "title_sidebar": "Contents",
   "toc_cell": false,
   "toc_position": {},
   "toc_section_display": true,
   "toc_window_display": false
  }
 },
 "nbformat": 4,
 "nbformat_minor": 2
}
